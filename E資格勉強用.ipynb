{
  "nbformat": 4,
  "nbformat_minor": 0,
  "metadata": {
    "colab": {
      "name": "E資格勉強用.ipynb",
      "provenance": [],
      "collapsed_sections": [],
      "authorship_tag": "ABX9TyMKqGkJvA37G1045kpHXSy/",
      "include_colab_link": true
    },
    "kernelspec": {
      "name": "python3",
      "display_name": "Python 3"
    }
  },
  "cells": [
    {
      "cell_type": "markdown",
      "metadata": {
        "id": "view-in-github",
        "colab_type": "text"
      },
      "source": [
        "<a href=\"https://colab.research.google.com/github/Ar1si4/DeepLearning_Practices1/blob/master/E%E8%B3%87%E6%A0%BC%E5%8B%89%E5%BC%B7%E7%94%A8.ipynb\" target=\"_parent\"><img src=\"https://colab.research.google.com/assets/colab-badge.svg\" alt=\"Open In Colab\"/></a>"
      ]
    },
    {
      "cell_type": "code",
      "metadata": {
        "id": "fP_QU3ZVOnX-",
        "colab_type": "code",
        "colab": {
          "base_uri": "https://localhost:8080/",
          "height": 34
        },
        "outputId": "27ecd8c8-9c67-49e1-fb8e-ab4d0725bdb6"
      },
      "source": [
        "from google.colab import drive\n",
        "drive.mount('/content/drive')"
      ],
      "execution_count": 5,
      "outputs": [
        {
          "output_type": "stream",
          "text": [
            "Drive already mounted at /content/drive; to attempt to forcibly remount, call drive.mount(\"/content/drive\", force_remount=True).\n"
          ],
          "name": "stdout"
        }
      ]
    },
    {
      "cell_type": "code",
      "metadata": {
        "id": "zDtP7H0IOogB",
        "colab_type": "code",
        "colab": {
          "base_uri": "https://localhost:8080/",
          "height": 34
        },
        "outputId": "e0e1765f-88a5-4528-9e97-dff7b3a4a092"
      },
      "source": [
        "pwd"
      ],
      "execution_count": 2,
      "outputs": [
        {
          "output_type": "execute_result",
          "data": {
            "text/plain": [
              "'/content'"
            ]
          },
          "metadata": {
            "tags": []
          },
          "execution_count": 2
        }
      ]
    },
    {
      "cell_type": "code",
      "metadata": {
        "id": "P6_8Z6hnPI4e",
        "colab_type": "code",
        "colab": {
          "base_uri": "https://localhost:8080/",
          "height": 34
        },
        "outputId": "9bcbc9fc-ac15-48f3-ed17-0dc700710915"
      },
      "source": [
        "cd /content/drive/My\\ Drive/資格/E資格/deep-learning-from-scratch-master/ch04"
      ],
      "execution_count": 6,
      "outputs": [
        {
          "output_type": "stream",
          "text": [
            "/content/drive/My Drive/資格/E資格/deep-learning-from-scratch-master/ch04\n"
          ],
          "name": "stdout"
        }
      ]
    },
    {
      "cell_type": "code",
      "metadata": {
        "id": "1_ufhTwfPSuF",
        "colab_type": "code",
        "colab": {
          "base_uri": "https://localhost:8080/",
          "height": 136
        },
        "outputId": "d6d9a126-fca7-4838-cba2-8cc9a8c75b5c"
      },
      "source": [
        "ll"
      ],
      "execution_count": 7,
      "outputs": [
        {
          "output_type": "stream",
          "text": [
            "total 9\n",
            "-rw------- 1 root  497 Jan 20 04:35 gradient_1d.py\n",
            "-rw------- 1 root 1539 Jan 20 04:35 gradient_2d.py\n",
            "-rw------- 1 root  755 Jan 20 04:35 gradient_method.py\n",
            "-rw------- 1 root  686 Jan 20 04:35 gradient_simplenet.py\n",
            "-rw------- 1 root 1797 Jan 20 04:35 train_neuralnet.py\n",
            "-rw------- 1 root 2435 Jan 20 04:35 two_layer_net.py\n"
          ],
          "name": "stdout"
        }
      ]
    },
    {
      "cell_type": "code",
      "metadata": {
        "id": "qYTweVNHPjxj",
        "colab_type": "code",
        "colab": {
          "base_uri": "https://localhost:8080/",
          "height": 333
        },
        "outputId": "b556f535-1643-49d7-e792-28469301d9ca"
      },
      "source": [
        "# coding: utf-8\n",
        "import sys, os\n",
        "sys.path.append(os.pardir)  # 親ディレクトリのファイルをインポートするための設定\n",
        "import numpy as np\n",
        "from dataset.mnist import load_mnist\n",
        "from PIL import Image\n",
        "import matplotlib.pyplot as plt\n",
        "%matplotlib inline\n",
        "\n",
        "def img_show(img):\n",
        "    pil_img = Image.fromarray(np.uint8(img))\n",
        "    pil_img.show()\n",
        "\n",
        "(x_train, t_train), (x_test, t_test) = load_mnist(flatten=True, normalize=False)\n",
        "\n",
        "img = x_train[0]\n",
        "label = t_train[0]\n",
        "print(label)  # 5\n",
        "\n",
        "print(img.shape)  # (784,)\n",
        "img = img.reshape(28, 28)  # 形状を元の画像サイズに変形\n",
        "print(img.shape)  # (28, 28)\n",
        "plt.gray()\n",
        "plt.imshow(np.array(img))"
      ],
      "execution_count": 9,
      "outputs": [
        {
          "output_type": "stream",
          "text": [
            "5\n",
            "(784,)\n",
            "(28, 28)\n"
          ],
          "name": "stdout"
        },
        {
          "output_type": "execute_result",
          "data": {
            "text/plain": [
              "<matplotlib.image.AxesImage at 0x7fe94a3d74e0>"
            ]
          },
          "metadata": {
            "tags": []
          },
          "execution_count": 9
        },
        {
          "output_type": "display_data",
          "data": {
            "image/png": "[encoded data removed]",
            "text/plain": [
              "<Figure size 432x288 with 1 Axes>"
            ]
          },
          "metadata": {
            "tags": []
          }
        }
      ]
    },
    {
      "cell_type": "code",
      "metadata": {
        "id": "HCtUjMWPSFwL",
        "colab_type": "code",
        "colab": {}
      },
      "source": [
        "img_show(img)"
      ],
      "execution_count": 0,
      "outputs": []
    },
    {
      "cell_type": "code",
      "metadata": {
        "id": "BrBSavr3QnuS",
        "colab_type": "code",
        "colab": {
          "base_uri": "https://localhost:8080/",
          "height": 34
        },
        "outputId": "852ad6ba-164e-4925-9c82-74a3372465a3"
      },
      "source": [
        "x_train.shape,t_train.shape,x_test.shape,t_test.shape"
      ],
      "execution_count": 11,
      "outputs": [
        {
          "output_type": "execute_result",
          "data": {
            "text/plain": [
              "((60000, 784), (60000,), (10000, 784), (10000,))"
            ]
          },
          "metadata": {
            "tags": []
          },
          "execution_count": 11
        }
      ]
    },
    {
      "cell_type": "code",
      "metadata": {
        "id": "314kwPfCQzS4",
        "colab_type": "code",
        "colab": {}
      },
      "source": [
        "# coding: utf-8\n",
        "import sys, os\n",
        "sys.path.append(os.pardir)  # 親ディレクトリのファイルをインポートするための設定\n",
        "import numpy as np\n",
        "import pickle\n",
        "from dataset.mnist import load_mnist\n",
        "from common.functions import sigmoid, softmax\n",
        "\n",
        "\n",
        "def get_data():\n",
        "    (x_train, t_train), (x_test, t_test) = load_mnist(normalize=True, flatten=True, one_hot_label=False)\n",
        "    return x_test, t_test\n",
        "\n",
        "\n",
        "def init_network():\n",
        "    with open(\"sample_weight.pkl\", 'rb') as f:\n",
        "        network = pickle.load(f)\n",
        "    return network"
      ],
      "execution_count": 0,
      "outputs": []
    },
    {
      "cell_type": "code",
      "metadata": {
        "id": "77htXNlKclpo",
        "colab_type": "code",
        "colab": {}
      },
      "source": [
        "def predict(network,x):\n",
        "    w1,w2,w3 = network[\"W1\"],network[\"W2\"],network[\"W3\"] #重みの読み込み\n",
        "    b1,b2,b3 = network[\"b1\"],network[\"b2\"],network[\"b3\"] #バイアス項の読み込み\n",
        "\n",
        "\n",
        "    a1 = np.dot(x ,w1) + b1; z1 = sigmoid(a1)\n",
        "    a2 = np.dot(z1,w2) + b2; z2 = sigmoid(a2)\n",
        "    a3 = np.dot(z2,w3) + b3; y  = softmax(a3)\n",
        "\n",
        "    return y"
      ],
      "execution_count": 0,
      "outputs": []
    },
    {
      "cell_type": "markdown",
      "metadata": {
        "id": "Zpzvrk9Vkkk3",
        "colab_type": "text"
      },
      "source": [
        "# バッチ無しVer"
      ]
    },
    {
      "cell_type": "code",
      "metadata": {
        "id": "0fXhHPsweixT",
        "colab_type": "code",
        "colab": {
          "base_uri": "https://localhost:8080/",
          "height": 34
        },
        "outputId": "ba9019c4-abc6-41a5-ce2e-14880443b4da"
      },
      "source": [
        "x,t = get_data()\n",
        "network = init_network()\n",
        "\n",
        "acc_cnt = 0\n",
        "for i in range(len(x)):\n",
        "    y = predict(network,x[i])\n",
        "    p = np.argmax(y)\n",
        "    if p == t[i]:\n",
        "        acc_cnt += 1\n",
        "print(\"acc:\" + str(float(acc_cnt)/len(x))) "
      ],
      "execution_count": 28,
      "outputs": [
        {
          "output_type": "stream",
          "text": [
            "acc:0.9352\n"
          ],
          "name": "stdout"
        }
      ]
    },
    {
      "cell_type": "markdown",
      "metadata": {
        "id": "0FLa0QWkkqqb",
        "colab_type": "text"
      },
      "source": [
        "# バッチありVer"
      ]
    },
    {
      "cell_type": "code",
      "metadata": {
        "id": "Kj6ydjDWfRy-",
        "colab_type": "code",
        "colab": {
          "base_uri": "https://localhost:8080/",
          "height": 34
        },
        "outputId": "c41ff2d6-ab59-42f9-fd55-e104d6149c7e"
      },
      "source": [
        "x,t = get_data()\n",
        "network = init_network()\n",
        "\n",
        "batch_size = 100 #バッチサイズ\n",
        "acc_cnt = 0\n",
        "\n",
        "for i in range(0,len(x),batch_size):\n",
        "    x_batch = x[i:i+batch_size]\n",
        "    y_batch = predict(network,x_batch)\n",
        "    p = np.argmax(y_batch,axis = 1)\n",
        "    acc_cnt += np.sum(p==t[i:i+batch_size])\n",
        "print(\"acc:\" + str(float(acc_cnt)/len(x))) "
      ],
      "execution_count": 29,
      "outputs": [
        {
          "output_type": "stream",
          "text": [
            "acc:0.9352\n"
          ],
          "name": "stdout"
        }
      ]
    },
    {
      "cell_type": "markdown",
      "metadata": {
        "id": "ufhjiTIznRBs",
        "colab_type": "text"
      },
      "source": [
        "# 2層のニューラルネットワークの実装"
      ]
    },
    {
      "cell_type": "code",
      "metadata": {
        "id": "uNXtRAWvlXfa",
        "colab_type": "code",
        "colab": {
          "base_uri": "https://localhost:8080/",
          "height": 321
        },
        "outputId": "8afde663-3327-450f-fb26-fe2ccba5f9ee"
      },
      "source": [
        "from common.functions import *\n",
        "from common.gradient import numerical_gradient"
      ],
      "execution_count": 2,
      "outputs": [
        {
          "output_type": "error",
          "ename": "ModuleNotFoundError",
          "evalue": "ignored",
          "traceback": [
            "\u001b[0;31m---------------------------------------------------------------------------\u001b[0m",
            "\u001b[0;31mModuleNotFoundError\u001b[0m                       Traceback (most recent call last)",
            "\u001b[0;32m<ipython-input-2-057dd8b1cf65>\u001b[0m in \u001b[0;36m<module>\u001b[0;34m()\u001b[0m\n\u001b[0;32m----> 1\u001b[0;31m \u001b[0;32mfrom\u001b[0m \u001b[0mcommon\u001b[0m\u001b[0;34m.\u001b[0m\u001b[0mfunctions\u001b[0m \u001b[0;32mimport\u001b[0m \u001b[0;34m*\u001b[0m\u001b[0;34m\u001b[0m\u001b[0;34m\u001b[0m\u001b[0m\n\u001b[0m\u001b[1;32m      2\u001b[0m \u001b[0;32mfrom\u001b[0m \u001b[0mcommon\u001b[0m\u001b[0;34m.\u001b[0m\u001b[0mgradient\u001b[0m \u001b[0;32mimport\u001b[0m \u001b[0mnumerical_gradient\u001b[0m\u001b[0;34m\u001b[0m\u001b[0;34m\u001b[0m\u001b[0m\n",
            "\u001b[0;31mModuleNotFoundError\u001b[0m: No module named 'common'",
            "",
            "\u001b[0;31m---------------------------------------------------------------------------\u001b[0;32m\nNOTE: If your import is failing due to a missing package, you can\nmanually install dependencies using either !pip or !apt.\n\nTo view examples of installing some common dependencies, click the\n\"Open Examples\" button below.\n\u001b[0;31m---------------------------------------------------------------------------\u001b[0m\n"
          ]
        }
      ]
    },
    {
      "cell_type": "code",
      "metadata": {
        "id": "AiWk-hbenp8a",
        "colab_type": "code",
        "colab": {}
      },
      "source": [
        "class TwoLayerNet:\n",
        "    def __init__ (self,\n",
        "                  input_size,\n",
        "                  hidden_size,\n",
        "                  output_size,\n",
        "                  weight_init_std = 0.01):\n",
        "        \n",
        "        self.parms = {}\n",
        "        self.parms[\"w1\"] = weight_init_std * np.random.randn(input_size,hidden_size)\n",
        "        self.parms[\"b1\"] = np.zeros(hidden_size)\n",
        "        self.parms[\"w2\"] = weight_init_std * np.random.randn(input_size,hidden_size)\n",
        "        self.parms[\"b2\"] = np.zeros(hidden_size)\n",
        "\n",
        "    def predict(self,x):\n",
        "        W1,W2 = self.parms[\"W1\"],self.parms[\"W2\"]\n",
        "        b1,b2 = self.parms[\"b1\"],self.parms[\"b2\"]\n",
        "\n",
        "        a1 = np.dot(x ,w1) + b1\n",
        "        z1 = sigmoid(a1)\n",
        "        a2 = np.dot(z1,w2) + b2\n",
        "        y = sigmoid(a2)\n",
        "\n",
        "        return y\n",
        "    \n",
        "    # x:入力データ y:教師データ\n",
        "    def loss(self, x, t):\n",
        "        y = self.predict(x)\n",
        "        return cross_entropy_error(y,t)\n",
        "    \n",
        "    def accuracy(self, x, t):\n",
        "        y = self.predict(x)\n",
        "        y = np.argmax(y,axis=1)\n",
        "        t = np.argmax(t,axis=1)\n",
        "\n",
        "        accuracy = np.sum(y == t)/float(x.shape[0])\n",
        "\n",
        "    def numerical_gradient(self, x, t):\n",
        "        loss_W = lambda W : self.loss(x,t)\n",
        "        grads = {}\n",
        "        grads[\"W1\"] = numerical_gradient(loss_W,self.parms[\"W1\"])\n",
        "        grads[\"b1\"] = numerical_gradient(loss_W,self.parms[\"b1\"])\n",
        "        grads[\"W2\"] = numerical_gradient(loss_W,self.parms[\"W1\"])\n",
        "        grads[\"b2\"] = numerical_gradient(loss_W,self.parms[\"b1\"])\n",
        "\n",
        "        return grads\n",
        "        "
      ],
      "execution_count": 0,
      "outputs": []
    },
    {
      "cell_type": "code",
      "metadata": {
        "id": "n-cyQFZIox6u",
        "colab_type": "code",
        "colab": {
          "base_uri": "https://localhost:8080/",
          "height": 219
        },
        "outputId": "881f994d-51ae-4e58-bbca-c152947e5d02"
      },
      "source": [
        "import numpy as np\n",
        "from dataset.mnist import load_mnist\n",
        "from two_layer_net import TwoLayerNet\n",
        "\n",
        "(x_train, t_train), (x_test, t_test) = load_mnist(normalize=True, one_hot_label=True)\n",
        "\n",
        "train_loss_list =[]\n",
        "\n",
        "#ハイパーパラメータ\n",
        "iters_num = 10000\n",
        "train_size = x_train.shape[0]\n",
        "batch_size = 100\n",
        "learning_rate = 0.1\n",
        "\n",
        "network = TwoLayerNet(input_size = 784,hidden_size = 50,output_size = 10)\n",
        "\n",
        "for i in range(iters_num):\n",
        "    #ミニバッチの取得\n",
        "    batch_mask = np.random.choice(train_size,batch_size)\n",
        "    x_batch = x_train[batch_mask]\n",
        "    t_batch = t_train[batch_mask]\n",
        "\n",
        "    grad = network.numerical_gradient(x_batch,t_batch)\n",
        "    #grad = network.gradient(x_batch,t_batch)\n",
        "\n",
        "    for key in (\"W1\",\"b1\",\"W2\",\"b2\"):\n",
        "        network.params[key] -= learning_rate * grad[key]\n",
        "\n",
        "    loss = netwowk.loss(x_batch,t_batch)\n",
        "    train_loss_list.append(loss)\n"
      ],
      "execution_count": 11,
      "outputs": [
        {
          "output_type": "error",
          "ename": "NameError",
          "evalue": "ignored",
          "traceback": [
            "\u001b[0;31m---------------------------------------------------------------------------\u001b[0m",
            "\u001b[0;31mNameError\u001b[0m                                 Traceback (most recent call last)",
            "\u001b[0;32m<ipython-input-11-390b31670ac3>\u001b[0m in \u001b[0;36m<module>\u001b[0;34m()\u001b[0m\n\u001b[1;32m     27\u001b[0m         \u001b[0mnetwork\u001b[0m\u001b[0;34m.\u001b[0m\u001b[0mparams\u001b[0m\u001b[0;34m[\u001b[0m\u001b[0mkey\u001b[0m\u001b[0;34m]\u001b[0m \u001b[0;34m-=\u001b[0m \u001b[0mlearning_rate\u001b[0m \u001b[0;34m*\u001b[0m \u001b[0mgrad\u001b[0m\u001b[0;34m[\u001b[0m\u001b[0mkey\u001b[0m\u001b[0;34m]\u001b[0m\u001b[0;34m\u001b[0m\u001b[0;34m\u001b[0m\u001b[0m\n\u001b[1;32m     28\u001b[0m \u001b[0;34m\u001b[0m\u001b[0m\n\u001b[0;32m---> 29\u001b[0;31m     \u001b[0mloss\u001b[0m \u001b[0;34m=\u001b[0m \u001b[0mnetwowk\u001b[0m\u001b[0;34m.\u001b[0m\u001b[0mloss\u001b[0m\u001b[0;34m(\u001b[0m\u001b[0mx_batch\u001b[0m\u001b[0;34m,\u001b[0m\u001b[0mt_batch\u001b[0m\u001b[0;34m)\u001b[0m\u001b[0;34m\u001b[0m\u001b[0;34m\u001b[0m\u001b[0m\n\u001b[0m\u001b[1;32m     30\u001b[0m     \u001b[0mtrain_loss_list\u001b[0m\u001b[0;34m.\u001b[0m\u001b[0mappend\u001b[0m\u001b[0;34m(\u001b[0m\u001b[0mloss\u001b[0m\u001b[0;34m)\u001b[0m\u001b[0;34m\u001b[0m\u001b[0;34m\u001b[0m\u001b[0m\n",
            "\u001b[0;31mNameError\u001b[0m: name 'netwowk' is not defined"
          ]
        }
      ]
    },
    {
      "cell_type": "code",
      "metadata": {
        "id": "rnxZODMC4qfH",
        "colab_type": "code",
        "colab": {}
      },
      "source": [
        ""
      ],
      "execution_count": 0,
      "outputs": []
    }
  ]
}